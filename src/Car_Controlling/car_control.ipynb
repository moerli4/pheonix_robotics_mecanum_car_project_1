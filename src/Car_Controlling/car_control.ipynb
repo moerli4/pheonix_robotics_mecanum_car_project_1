{
 "cells": [
  {
   "cell_type": "markdown",
   "id": "6b3ae61d",
   "metadata": {},
   "source": [
    "## Controlling Robotic Car\n"
   ]
  },
  {
   "cell_type": "code",
   "execution_count": 11,
   "id": "baf422e0",
   "metadata": {},
   "outputs": [],
   "source": [
    "import sys, os\n",
    "sys.path.append(os.path.abspath('..'))\n",
    "\n",
    "from util.Raspbot_Library import Raspbot\n"
   ]
  },
  {
   "cell_type": "code",
   "execution_count": null,
   "id": "8ea48662",
   "metadata": {},
   "outputs": [],
   "source": [
    "# Look up table for movements of the 4 motors\n",
    "ACTION = {\n",
    "    \"FORWARD\": {\n",
    "                \"motor1_id\": 0, \"motor1_dir\": 0,\n",
    "                \"motor2_id\": 1, \"motor2_dir\": 0,\n",
    "                \"motor3_id\": 2, \"motor3_dir\": 0,\n",
    "                \"motor4_id\": 3, \"motor4_dir\": 0\n",
    "                },\n",
    "\n",
    "    \"BACKWARD\": {\n",
    "                \"motor1_id\": 0, \"motor1_dir\": 1,\n",
    "                \"motor2_id\": 1, \"motor2_dir\": 1,\n",
    "                \"motor3_id\": 2, \"motor3_dir\": 1,\n",
    "                \"motor4_id\": 3, \"motor4_dir\": 1\n",
    "                },\n",
    "    \"LEFT_TRANS\": {\n",
    "                \"motor1_id\": 0, \"motor1_dir\": 1,\n",
    "                \"motor2_id\": 1, \"motor2_dir\": 0,\n",
    "                \"motor3_id\": 2, \"motor3_dir\": 0,\n",
    "                \"motor4_id\": 3, \"motor4_dir\": 1\n",
    "                },\n",
    "    \"RIGHT_TRANS\": {\n",
    "                \"motor1_id\": 0, \"motor1_dir\": 0,\n",
    "                \"motor2_id\": 1, \"motor2_dir\": 1,\n",
    "                \"motor3_id\": 2, \"motor3_dir\": 1,\n",
    "                \"motor4_id\": 3, \"motor4_dir\": 0\n",
    "                },\n",
    "}"
   ]
  },
  {
   "cell_type": "code",
   "execution_count": 25,
   "id": "00f82ba5",
   "metadata": {},
   "outputs": [],
   "source": [
    "# Define an Object\n",
    "bot = Raspbot()"
   ]
  },
  {
   "cell_type": "code",
   "execution_count": null,
   "id": "868f40be",
   "metadata": {},
   "outputs": [],
   "source": [
    "# Control the robotic car to move in translation\n",
    "def translation(direction, speed_per):\n",
    "\n",
    "    # Convert speed percentage into speed char(0-255)\n",
    "    speed_char = round(speed_per * 255)\n",
    "\n",
    "    # Here using lookup table will be optimal\n",
    "    bot.Ctrl_Car(motor_id=ACTION[direction][\"motor1_id\"], motor_dir=ACTION[direction][\"motor1_dir\"], motor_speed=speed_char)\n",
    "    bot.Ctrl_Car(motor_id=ACTION[direction][\"motor2_id\"], motor_dir=ACTION[direction][\"motor2_dir\"], motor_speed=speed_char)\n",
    "    bot.Ctrl_Car(motor_id=ACTION[direction][\"motor3_id\"], motor_dir=ACTION[direction][\"motor3_dir\"], motor_speed=speed_char)\n",
    "    bot.Ctrl_Car(motor_id=ACTION[direction][\"motor4_id\"], motor_dir=ACTION[direction][\"motor4_dir\"], motor_speed=speed_char)\n"
   ]
  },
  {
   "cell_type": "code",
   "execution_count": 29,
   "id": "751da9af",
   "metadata": {},
   "outputs": [],
   "source": [
    "translation(\"FORWARD\", 0.1)"
   ]
  },
  {
   "cell_type": "code",
   "execution_count": 30,
   "id": "61446e85",
   "metadata": {},
   "outputs": [],
   "source": [
    "# Stop motion\n",
    "bot.Ctrl_Car(0,1,0)\n",
    "bot.Ctrl_Car(1,1,0)\n",
    "bot.Ctrl_Car(2,1,0)\n",
    "bot.Ctrl_Car(3,1,0)"
   ]
  },
  {
   "cell_type": "code",
   "execution_count": null,
   "id": "31143af5",
   "metadata": {},
   "outputs": [],
   "source": [
    "# After the program is complete, delete the object to avoid conflicts caused by using the library in other programs\n",
    "del bot"
   ]
  }
 ],
 "metadata": {
  "kernelspec": {
   "display_name": "yolov5-lite",
   "language": "python",
   "name": "python3"
  },
  "language_info": {
   "codemirror_mode": {
    "name": "ipython",
    "version": 3
   },
   "file_extension": ".py",
   "mimetype": "text/x-python",
   "name": "python",
   "nbconvert_exporter": "python",
   "pygments_lexer": "ipython3",
   "version": "3.11.2"
  }
 },
 "nbformat": 4,
 "nbformat_minor": 5
}
