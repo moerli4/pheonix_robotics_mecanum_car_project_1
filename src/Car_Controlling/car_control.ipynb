{
 "cells": [
  {
   "cell_type": "markdown",
   "id": "6b3ae61d",
   "metadata": {},
   "source": [
    "## Controlling Robotic Car\n"
   ]
  },
  {
   "cell_type": "code",
   "execution_count": null,
   "id": "baf422e0",
   "metadata": {},
   "outputs": [],
   "source": [
    "from Rasbot_Library import Raspbot\n"
   ]
  },
  {
   "cell_type": "code",
   "execution_count": null,
   "id": "8ea48662",
   "metadata": {},
   "outputs": [],
   "source": [
    "# Look up table for movements of the 4 motors\n",
    "ACTION = {\n",
    "    \"FORWARD\": {\n",
    "                \"motor1_id\": 1, \"motor1_dir\": 0, \"motor1_speed\": 0,\n",
    "                \"motor2_id\": 2, \"motor2_dir\": 0, \"motor2_speed\": 0,\n",
    "                \"motor3_id\": 3, \"motor3_dir\": 0, \"motor3_speed\": 0,\n",
    "                \"motor4_id\": 4, \"motor4_dir\": 0, \"motor4_speed\": 0\n",
    "                }\n",
    "}"
   ]
  },
  {
   "cell_type": "code",
   "execution_count": null,
   "id": "00f82ba5",
   "metadata": {},
   "outputs": [],
   "source": [
    "# Define an Object\n",
    "bot = Raspbot()"
   ]
  },
  {
   "cell_type": "code",
   "execution_count": null,
   "id": "868f40be",
   "metadata": {},
   "outputs": [],
   "source": [
    "# Control the robotic car to move in translation\n",
    "def translation(ACTION, speed_per, duration_ms):\n",
    "\n",
    "    # Convert speed percentage into speed char(0-255)\n",
    "    speed_char = round(speed_per * 255)\n",
    "\n",
    "    # Here using lookup table will be optimal\n",
    "    # Foward\n",
    "    bot.Ctrl_Car(motor_id=ACTION[\"FORWARD\"][\"motor1_id\"], motor_dir=ACTION[\"FORWARD\"][\"motor1_dir\"], motor_speed=speed_char)\n",
    "    bot.Ctrl_Car(motor_id=ACTION[\"FORWARD\"][\"motor2_id\"], motor_dir=ACTION[\"FORWARD\"][\"motor2_dir\"], motor_speed=speed_char)\n",
    "    bot.Ctrl_Car(motor_id=ACTION[\"FORWARD\"][\"motor3_id\"], motor_dir=ACTION[\"FORWARD\"][\"motor3_dir\"], motor_speed=speed_char)\n",
    "    bot.Ctrl_Car(motor_id=ACTION[\"FORWARD\"][\"motor4_id\"], motor_dir=ACTION[\"FORWARD\"][\"motor4_dir\"], motor_speed=speed_char)"
   ]
  },
  {
   "cell_type": "code",
   "execution_count": null,
   "id": "61446e85",
   "metadata": {},
   "outputs": [],
   "source": [
    "# Stop motion\n",
    "bot.Ctrl_Car(0,1,0)\n",
    "bot.Ctrl_Car(1,1,0)\n",
    "bot.Ctrl_Car(2,1,0)\n",
    "bot.Ctrl_Car(3,1,0)"
   ]
  },
  {
   "cell_type": "code",
   "execution_count": null,
   "id": "31143af5",
   "metadata": {},
   "outputs": [],
   "source": [
    "# After the program is complete, delete the object to avoid conflicts caused by using the library in other programs\n",
    "del bot"
   ]
  }
 ],
 "metadata": {
  "language_info": {
   "name": "python"
  }
 },
 "nbformat": 4,
 "nbformat_minor": 5
}
