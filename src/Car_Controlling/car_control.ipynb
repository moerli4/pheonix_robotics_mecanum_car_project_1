{
 "cells": [
  {
   "cell_type": "markdown",
   "id": "6b3ae61d",
   "metadata": {},
   "source": [
    "## Controlling Robotic Car\n"
   ]
  },
  {
   "cell_type": "code",
   "execution_count": 17,
   "id": "baf422e0",
   "metadata": {},
   "outputs": [],
   "source": [
    "import sys, os\n",
    "sys.path.append(os.path.abspath('..'))\n",
    "\n",
    "import time\n",
    "from util.Raspbot_Library import Raspbot\n"
   ]
  },
  {
   "cell_type": "code",
   "execution_count": 18,
   "id": "8ea48662",
   "metadata": {},
   "outputs": [],
   "source": [
    "# Look up table for movements of the 4 motors\n",
    "ACTION = {\n",
    "    \"FORWARD\":  {\n",
    "                \"motor1_id\": 0, \"motor1_dir\": 0,\n",
    "                \"motor2_id\": 1, \"motor2_dir\": 0,\n",
    "                \"motor3_id\": 2, \"motor3_dir\": 0,\n",
    "                \"motor4_id\": 3, \"motor4_dir\": 0,\n",
    "                },\n",
    "\n",
    "    \"BACKWARD\": {\n",
    "                \"motor1_id\": 0, \"motor1_dir\": 1,\n",
    "                \"motor2_id\": 1, \"motor2_dir\": 1,\n",
    "                \"motor3_id\": 2, \"motor3_dir\": 1,\n",
    "                \"motor4_id\": 3, \"motor4_dir\": 1,\n",
    "                },\n",
    "    \"LEFT_TRANS\": {\n",
    "                \"motor1_id\": 0, \"motor1_dir\": 1,\n",
    "                \"motor2_id\": 1, \"motor2_dir\": 0,\n",
    "                \"motor3_id\": 2, \"motor3_dir\": 0,\n",
    "                \"motor4_id\": 3, \"motor4_dir\": 1,\n",
    "                },\n",
    "    \"RIGHT_TRANS\": {\n",
    "                \"motor1_id\": 0, \"motor1_dir\": 0,\n",
    "                \"motor2_id\": 1, \"motor2_dir\": 1,\n",
    "                \"motor3_id\": 2, \"motor3_dir\": 1,\n",
    "                \"motor4_id\": 3, \"motor4_dir\": 0,\n",
    "                },\n",
    "    \"COUNTERCLOCK\": {\n",
    "                \"motor1_id\": 0, \"motor1_dir\": 1,\n",
    "                \"motor2_id\": 1, \"motor2_dir\": 1,\n",
    "                \"motor3_id\": 2, \"motor3_dir\": 0,\n",
    "                \"motor4_id\": 3, \"motor4_dir\": 0,\n",
    "                },\n",
    "    \"CLOCKWISE\": {\n",
    "                \"motor1_id\": 0, \"motor1_dir\": 0,\n",
    "                \"motor2_id\": 1, \"motor2_dir\": 0,\n",
    "                \"motor3_id\": 2, \"motor3_dir\": 1,\n",
    "                \"motor4_id\": 3, \"motor4_dir\": 1,\n",
    "                },\n",
    "    \"LEFTFRONT\": {\n",
    "                \"motor1_id\": 0, \"motor1_dir\": 0,\n",
    "                \"motor2_id\": 1, \"motor2_dir\": 0,\n",
    "                \"motor3_id\": 2, \"motor3_dir\": 0,\n",
    "                \"motor4_id\": 3, \"motor4_dir\": 0,\n",
    "                },\n",
    "    \"LEFTREAR\": {\n",
    "                \"motor1_id\": 0, \"motor1_dir\": 1,\n",
    "                \"motor2_id\": 1, \"motor2_dir\": 0,\n",
    "                \"motor3_id\": 2, \"motor3_dir\": 0,\n",
    "                \"motor4_id\": 3, \"motor4_dir\": 1,\n",
    "                },\n",
    "    \"RIGHTFRONT\": {\n",
    "                \"motor1_id\": 0, \"motor1_dir\": 0,\n",
    "                \"motor2_id\": 1, \"motor2_dir\": 0,\n",
    "                \"motor3_id\": 2, \"motor3_dir\": 0,\n",
    "                \"motor4_id\": 3, \"motor4_dir\": 0,\n",
    "                },\n",
    "    \"RIGHTREAR\": {\n",
    "                \"motor1_id\": 0, \"motor1_dir\": 1,\n",
    "                \"motor2_id\": 1, \"motor2_dir\": 1,\n",
    "                \"motor3_id\": 2, \"motor3_dir\": 1,\n",
    "                \"motor4_id\": 3, \"motor4_dir\": 1,\n",
    "                },\n",
    "}"
   ]
  },
  {
   "cell_type": "code",
   "execution_count": 38,
   "id": "00f82ba5",
   "metadata": {},
   "outputs": [],
   "source": [
    "# Define an Object\n",
    "bot = Raspbot()"
   ]
  },
  {
   "cell_type": "code",
   "execution_count": 44,
   "id": "073be884",
   "metadata": {},
   "outputs": [],
   "source": [
    "# Stop motion\n",
    "def stop():\n",
    "    bot.Ctrl_Car(0,1,0)\n",
    "    bot.Ctrl_Car(1,1,0)\n",
    "    bot.Ctrl_Car(2,1,0)\n",
    "    bot.Ctrl_Car(3,1,0)\n",
    "\n",
    "def speed_config(direction, speed_per):\n",
    "    if direction in (\"LEFTFRONT\", \"RIGHTREAR\"):\n",
    "        speed_motor1_char = 0\n",
    "        speed_motor2_char = round(speed_per * 255)\n",
    "        speed_motor3_char = round(speed_per * 255)\n",
    "        speed_motor4_char = 0\n",
    "    elif direction in (\"LEFTREAR\", \"RIGHTFRONT\"):\n",
    "        speed_motor1_char = round(speed_per * 255)\n",
    "        speed_motor2_char = 0\n",
    "        speed_motor3_char = 0\n",
    "        speed_motor4_char = round(speed_per * 255)\n",
    "    else:\n",
    "        speed_motor1_char = round(speed_per * 255)\n",
    "        speed_motor2_char = round(speed_per * 255)\n",
    "        speed_motor3_char = round(speed_per * 255)\n",
    "        speed_motor4_char = round(speed_per * 255)\n",
    "        \n",
    "    \n",
    "    return speed_motor1_char, speed_motor2_char, speed_motor3_char, speed_motor4_char\n"
   ]
  },
  {
   "cell_type": "code",
   "execution_count": 45,
   "id": "868f40be",
   "metadata": {},
   "outputs": [],
   "source": [
    "# Control the robotic car to move in translation\n",
    "def motion(direction, speed_per, duration_ms):\n",
    "\n",
    "    # Convert speed percentage into speed char(0-255)\n",
    "    speed_motor1_char, speed_motor2_char, speed_motor3_char, speed_motor4_char = speed_config(direction=direction, speed_per=speed_per)\n",
    "    \n",
    "    # Here using lookup table will be optimal\n",
    "    bot.Ctrl_Car(motor_id=ACTION[direction][\"motor1_id\"], motor_dir=ACTION[direction][\"motor1_dir\"], motor_speed=speed_motor1_char)\n",
    "    bot.Ctrl_Car(motor_id=ACTION[direction][\"motor2_id\"], motor_dir=ACTION[direction][\"motor2_dir\"], motor_speed=speed_motor2_char)\n",
    "    bot.Ctrl_Car(motor_id=ACTION[direction][\"motor3_id\"], motor_dir=ACTION[direction][\"motor3_dir\"], motor_speed=speed_motor3_char)\n",
    "    bot.Ctrl_Car(motor_id=ACTION[direction][\"motor4_id\"], motor_dir=ACTION[direction][\"motor4_dir\"], motor_speed=speed_motor4_char)\n",
    "\n",
    "    time.sleep(duration_ms/1000)\n",
    "\n",
    "    # Stop motion\n",
    "    stop()\n"
   ]
  },
  {
   "cell_type": "code",
   "execution_count": 34,
   "id": "68dedb46",
   "metadata": {},
   "outputs": [
    {
     "name": "stdout",
     "output_type": "stream",
     "text": [
      "26 0 0 26\n"
     ]
    }
   ],
   "source": [
    "motion(\"LEFTREAR\", 0.1, 1000)"
   ]
  },
  {
   "cell_type": "code",
   "execution_count": null,
   "id": "3ef1cf23",
   "metadata": {},
   "outputs": [],
   "source": [
    "def circle():\n",
    "    try:\n",
    "        while True:\n",
    "            motion(\"FORWARD\", 0.1, 50)\n",
    "            motion(\"CLOCKWISE\", 0.1, 50)\n",
    "\n",
    "    except KeyboardInterrupt:\n",
    "        print(\"Interrupted\")\n",
    "        \n",
    "    finally:\n",
    "        stop()"
   ]
  },
  {
   "cell_type": "code",
   "execution_count": 48,
   "id": "57e18ab0",
   "metadata": {},
   "outputs": [
    {
     "name": "stdout",
     "output_type": "stream",
     "text": [
      "Interrupted\n"
     ]
    }
   ],
   "source": [
    "circle()"
   ]
  },
  {
   "cell_type": "code",
   "execution_count": 41,
   "id": "c35fef40",
   "metadata": {},
   "outputs": [],
   "source": [
    "stop()"
   ]
  },
  {
   "cell_type": "code",
   "execution_count": 37,
   "id": "31143af5",
   "metadata": {},
   "outputs": [],
   "source": [
    "# After the program is complete, delete the object to avoid conflicts caused by using the library in other programs\n",
    "del bot"
   ]
  }
 ],
 "metadata": {
  "kernelspec": {
   "display_name": "yolov5-lite",
   "language": "python",
   "name": "python3"
  },
  "language_info": {
   "codemirror_mode": {
    "name": "ipython",
    "version": 3
   },
   "file_extension": ".py",
   "mimetype": "text/x-python",
   "name": "python",
   "nbconvert_exporter": "python",
   "pygments_lexer": "ipython3",
   "version": "3.11.2"
  }
 },
 "nbformat": 4,
 "nbformat_minor": 5
}
